{
  "nbformat": 4,
  "nbformat_minor": 0,
  "metadata": {
    "colab": {
      "provenance": [],
      "authorship_tag": "ABX9TyPNsUtq8wh1MixXkWuo7YDk",
      "include_colab_link": true
    },
    "kernelspec": {
      "name": "python3",
      "display_name": "Python 3"
    },
    "language_info": {
      "name": "python"
    }
  },
  "cells": [
    {
      "cell_type": "markdown",
      "metadata": {
        "id": "view-in-github",
        "colab_type": "text"
      },
      "source": [
        "<a href=\"https://colab.research.google.com/github/ajeet7iitm/MLT_OPPE/blob/main/Rigression.ipynb\" target=\"_parent\"><img src=\"https://colab.research.google.com/assets/colab-badge.svg\" alt=\"Open In Colab\"/></a>"
      ]
    },
    {
      "cell_type": "code",
      "execution_count": 2,
      "metadata": {
        "id": "K3gU0qsIP79d"
      },
      "outputs": [],
      "source": [
        "import numpy as np\n",
        "import matplotlib.pyplot as plt"
      ]
    },
    {
      "cell_type": "code",
      "source": [
        "rnd=np.random.default_rng(seed=101)\n"
      ],
      "metadata": {
        "id": "5AqZzAeceqPx"
      },
      "execution_count": 3,
      "outputs": []
    },
    {
      "cell_type": "code",
      "source": [
        "rnd\n"
      ],
      "metadata": {
        "colab": {
          "base_uri": "https://localhost:8080/"
        },
        "id": "ENs4wn13i6Zs",
        "outputId": "f413cac9-91df-4fdf-bdee-8a92f7abcf48"
      },
      "execution_count": 4,
      "outputs": [
        {
          "output_type": "execute_result",
          "data": {
            "text/plain": [
              "Generator(PCG64) at 0x7D2AC6B82F80"
            ]
          },
          "metadata": {},
          "execution_count": 4
        }
      ]
    },
    {
      "cell_type": "code",
      "source": [
        "x_train=(np.arange(-2,2,0.01).reshape(1,-1))"
      ],
      "metadata": {
        "id": "L0P5nHIdi8JL"
      },
      "execution_count": 5,
      "outputs": []
    },
    {
      "cell_type": "code",
      "source": [
        "x_train.shape"
      ],
      "metadata": {
        "colab": {
          "base_uri": "https://localhost:8080/"
        },
        "id": "DqqQi2iXl4P3",
        "outputId": "bd87e99a-9421-48bd-c608-4ed2482bb0fc"
      },
      "execution_count": 6,
      "outputs": [
        {
          "output_type": "execute_result",
          "data": {
            "text/plain": [
              "(1, 400)"
            ]
          },
          "metadata": {},
          "execution_count": 6
        }
      ]
    },
    {
      "cell_type": "code",
      "source": [
        "y_train=(2*x_train**3+3*x_train**2+4+rnd.normal(0,1,x_train.shape[1]).reshape(1,-1)).T"
      ],
      "metadata": {
        "id": "AwiWbX-hl50Y"
      },
      "execution_count": 7,
      "outputs": []
    },
    {
      "cell_type": "code",
      "source": [
        "y_train.shape"
      ],
      "metadata": {
        "colab": {
          "base_uri": "https://localhost:8080/"
        },
        "id": "b761H81GmnP8",
        "outputId": "90e109c1-50b5-49fa-9be2-4b90bdc0162e"
      },
      "execution_count": 8,
      "outputs": [
        {
          "output_type": "execute_result",
          "data": {
            "text/plain": [
              "(400, 1)"
            ]
          },
          "metadata": {},
          "execution_count": 8
        }
      ]
    },
    {
      "cell_type": "code",
      "source": [
        "y2=(2*x_train**3+3*x_train**2+4).reshape(1,-1).T"
      ],
      "metadata": {
        "id": "37NNcJVxnSRI"
      },
      "execution_count": 9,
      "outputs": []
    },
    {
      "cell_type": "code",
      "source": [
        "y2.shape"
      ],
      "metadata": {
        "colab": {
          "base_uri": "https://localhost:8080/"
        },
        "id": "z5jkJogWnhvc",
        "outputId": "e828e906-f702-4bbe-9814-d8bce984d319"
      },
      "execution_count": 10,
      "outputs": [
        {
          "output_type": "execute_result",
          "data": {
            "text/plain": [
              "(400, 1)"
            ]
          },
          "metadata": {},
          "execution_count": 10
        }
      ]
    },
    {
      "cell_type": "code",
      "source": [
        "plt.scatter(x_train,y_train)"
      ],
      "metadata": {
        "colab": {
          "base_uri": "https://localhost:8080/",
          "height": 447
        },
        "id": "J_4A1VabmotM",
        "outputId": "50b567e7-fbf0-423f-88d7-46e5c3771f7b"
      },
      "execution_count": 11,
      "outputs": [
        {
          "output_type": "execute_result",
          "data": {
            "text/plain": [
              "<matplotlib.collections.PathCollection at 0x7d2aab703070>"
            ]
          },
          "metadata": {},
          "execution_count": 11
        },
        {
          "output_type": "display_data",
          "data": {
            "text/plain": [
              "<Figure size 640x480 with 1 Axes>"
            ],
            "image/png": "[encoded data removed]"
          },
          "metadata": {}
        }
      ]
    },
    {
      "cell_type": "code",
      "source": [
        "plt.scatter(x_train,y2)"
      ],
      "metadata": {
        "colab": {
          "base_uri": "https://localhost:8080/",
          "height": 447
        },
        "id": "Igr_X1G4nM13",
        "outputId": "22284072-9d11-4de2-e146-c49f791350e0"
      },
      "execution_count": 12,
      "outputs": [
        {
          "output_type": "execute_result",
          "data": {
            "text/plain": [
              "<matplotlib.collections.PathCollection at 0x7d2aa8b46680>"
            ]
          },
          "metadata": {},
          "execution_count": 12
        },
        {
          "output_type": "display_data",
          "data": {
            "text/plain": [
              "<Figure size 640x480 with 1 Axes>"
            ],
            "image/png": "[encoded data removed]"
          },
          "metadata": {}
        }
      ]
    },
    {
      "cell_type": "code",
      "source": [
        "rnd2=np.random.default_rng(seed=7)"
      ],
      "metadata": {
        "id": "aPUPA_m_n9OW"
      },
      "execution_count": 13,
      "outputs": []
    },
    {
      "cell_type": "code",
      "source": [
        "x_test=np.arange(-2,2,0.02).reshape(1,-1)"
      ],
      "metadata": {
        "id": "-9j9BAy4oVkn"
      },
      "execution_count": 14,
      "outputs": []
    },
    {
      "cell_type": "code",
      "source": [
        "y_test=(2*x_test**3+3*x_test**2+4+rnd2.normal(0,2,x_test.shape[1]).reshape(1,-1)).T"
      ],
      "metadata": {
        "id": "vJBayR4Voc0f"
      },
      "execution_count": 15,
      "outputs": []
    },
    {
      "cell_type": "code",
      "source": [
        "y_test"
      ],
      "metadata": {
        "id": "6atdR24cq208",
        "colab": {
          "base_uri": "https://localhost:8080/"
        },
        "outputId": "586f604a-0778-4f91-e3c2-35d8cfca09ef"
      },
      "execution_count": 16,
      "outputs": [
        {
          "output_type": "execute_result",
          "data": {
            "text/plain": [
              "array([[ 2.46030671e-03],\n",
              "       [ 8.33907075e-01],\n",
              "       [-8.25477107e-02],\n",
              "       [-1.09315168e+00],\n",
              "       [-5.91757034e-03],\n",
              "       [-8.71293110e-01],\n",
              "       [ 1.43414321e+00],\n",
              "       [ 4.18951849e+00],\n",
              "       [ 7.13378963e-01],\n",
              "       [ 6.39114200e-01],\n",
              "       [ 3.03568410e+00],\n",
              "       [ 2.93947002e+00],\n",
              "       [ 2.60007650e+00],\n",
              "       [ 6.85815911e-01],\n",
              "       [ 2.63980036e+00],\n",
              "       [ 4.23460639e+00],\n",
              "       [ 2.95506905e-01],\n",
              "       [ 2.20297648e+00],\n",
              "       [-5.55533480e-01],\n",
              "       [ 7.91068520e-01],\n",
              "       [-1.95470076e-01],\n",
              "       [ 3.13039374e+00],\n",
              "       [ 1.17307504e+00],\n",
              "       [ 4.35280072e+00],\n",
              "       [ 4.22108617e+00],\n",
              "       [ 3.62613811e+00],\n",
              "       [-9.45903422e-01],\n",
              "       [ 3.09314221e+00],\n",
              "       [ 4.15183011e+00],\n",
              "       [ 4.54924197e+00],\n",
              "       [ 1.33172847e+00],\n",
              "       [ 3.50154945e+00],\n",
              "       [ 2.56084984e+00],\n",
              "       [ 2.95691752e+00],\n",
              "       [ 6.74906125e+00],\n",
              "       [ 3.06093065e+00],\n",
              "       [ 4.65585259e+00],\n",
              "       [ 6.53082773e+00],\n",
              "       [ 3.63235113e+00],\n",
              "       [ 4.61010010e+00],\n",
              "       [ 5.08492829e+00],\n",
              "       [ 5.01869955e+00],\n",
              "       [ 2.46489635e+00],\n",
              "       [ 5.08799246e+00],\n",
              "       [ 7.67099084e+00],\n",
              "       [ 1.87371064e+00],\n",
              "       [ 6.69854138e+00],\n",
              "       [ 5.22747605e+00],\n",
              "       [ 3.71213121e+00],\n",
              "       [ 8.99961709e+00],\n",
              "       [ 6.52451942e+00],\n",
              "       [ 2.60023820e+00],\n",
              "       [ 5.14436046e+00],\n",
              "       [ 6.14301117e+00],\n",
              "       [ 4.60425975e+00],\n",
              "       [ 6.33782053e+00],\n",
              "       [ 4.82722136e+00],\n",
              "       [ 6.28118312e+00],\n",
              "       [ 7.80843718e+00],\n",
              "       [ 3.56313950e+00],\n",
              "       [ 5.30227722e+00],\n",
              "       [ 3.94948085e+00],\n",
              "       [ 5.10938482e+00],\n",
              "       [ 2.45796294e+00],\n",
              "       [ 3.65010081e+00],\n",
              "       [ 4.39160805e+00],\n",
              "       [ 6.55586374e+00],\n",
              "       [ 7.02225201e+00],\n",
              "       [ 2.05745642e+00],\n",
              "       [ 3.08725927e+00],\n",
              "       [ 5.94180685e+00],\n",
              "       [ 6.34136432e-01],\n",
              "       [ 3.66322827e+00],\n",
              "       [ 4.36529815e+00],\n",
              "       [ 7.04401395e+00],\n",
              "       [ 5.87880780e+00],\n",
              "       [ 3.81558916e+00],\n",
              "       [ 3.70297621e+00],\n",
              "       [ 3.91004120e+00],\n",
              "       [ 7.42808280e+00],\n",
              "       [ 3.49595011e+00],\n",
              "       [ 3.71609522e+00],\n",
              "       [ 5.00066613e+00],\n",
              "       [ 4.02665111e+00],\n",
              "       [ 3.84709554e+00],\n",
              "       [ 1.98786571e+00],\n",
              "       [ 4.16825306e+00],\n",
              "       [ 3.28048555e+00],\n",
              "       [ 6.47740755e+00],\n",
              "       [ 5.43008101e+00],\n",
              "       [ 4.05571277e+00],\n",
              "       [ 5.42229805e+00],\n",
              "       [ 3.38886890e+00],\n",
              "       [ 6.15756472e+00],\n",
              "       [ 4.02894488e+00],\n",
              "       [ 5.19476471e+00],\n",
              "       [ 1.43638951e+00],\n",
              "       [ 4.70372810e+00],\n",
              "       [ 6.28263765e-01],\n",
              "       [-6.94738899e-02],\n",
              "       [ 3.39104624e+00],\n",
              "       [ 2.20136078e+00],\n",
              "       [ 4.33303359e+00],\n",
              "       [ 8.50074525e+00],\n",
              "       [ 2.35677764e+00],\n",
              "       [ 2.78411283e+00],\n",
              "       [ 4.45746389e+00],\n",
              "       [ 5.05031458e+00],\n",
              "       [ 3.73217987e+00],\n",
              "       [ 3.69700334e+00],\n",
              "       [ 5.54092591e+00],\n",
              "       [ 5.20631127e+00],\n",
              "       [ 2.13309634e+00],\n",
              "       [ 4.07958936e+00],\n",
              "       [ 4.34967770e+00],\n",
              "       [ 2.21503076e+00],\n",
              "       [ 4.89241420e+00],\n",
              "       [ 2.70949505e+00],\n",
              "       [ 6.42624542e+00],\n",
              "       [ 4.92843583e+00],\n",
              "       [ 4.78661297e+00],\n",
              "       [ 3.49531929e+00],\n",
              "       [ 4.51394835e+00],\n",
              "       [ 8.33979414e-01],\n",
              "       [ 2.64956906e+00],\n",
              "       [ 5.72567960e+00],\n",
              "       [ 8.35281916e-01],\n",
              "       [ 6.88294504e+00],\n",
              "       [ 1.79983905e+00],\n",
              "       [ 6.91290101e+00],\n",
              "       [ 3.82100593e+00],\n",
              "       [ 7.18783817e+00],\n",
              "       [ 6.01499042e+00],\n",
              "       [ 2.80812212e+00],\n",
              "       [ 8.51436150e+00],\n",
              "       [ 9.03941431e+00],\n",
              "       [ 6.17008619e+00],\n",
              "       [ 5.90541546e+00],\n",
              "       [ 6.29101807e+00],\n",
              "       [ 4.82399935e+00],\n",
              "       [ 9.14117352e+00],\n",
              "       [ 6.03415214e+00],\n",
              "       [ 7.19982717e+00],\n",
              "       [ 5.90431919e+00],\n",
              "       [ 6.43399780e+00],\n",
              "       [ 5.33254970e+00],\n",
              "       [ 1.06107146e+01],\n",
              "       [ 8.00379285e+00],\n",
              "       [ 1.04661152e+01],\n",
              "       [ 8.79023319e+00],\n",
              "       [ 7.61119294e+00],\n",
              "       [ 8.59024548e+00],\n",
              "       [ 8.37406590e+00],\n",
              "       [ 9.76875020e+00],\n",
              "       [ 9.26809032e+00],\n",
              "       [ 9.69215657e+00],\n",
              "       [ 7.81590663e+00],\n",
              "       [ 9.24819614e+00],\n",
              "       [ 1.44667071e+01],\n",
              "       [ 1.01207976e+01],\n",
              "       [ 9.66781242e+00],\n",
              "       [ 1.27715487e+01],\n",
              "       [ 1.52405924e+01],\n",
              "       [ 9.85550340e+00],\n",
              "       [ 1.26924603e+01],\n",
              "       [ 1.21998949e+01],\n",
              "       [ 1.03050971e+01],\n",
              "       [ 1.56688614e+01],\n",
              "       [ 1.45328242e+01],\n",
              "       [ 1.51122277e+01],\n",
              "       [ 1.38633771e+01],\n",
              "       [ 1.66853443e+01],\n",
              "       [ 1.51141733e+01],\n",
              "       [ 1.63332656e+01],\n",
              "       [ 1.48382624e+01],\n",
              "       [ 1.50677945e+01],\n",
              "       [ 2.06258797e+01],\n",
              "       [ 1.74051186e+01],\n",
              "       [ 1.94769927e+01],\n",
              "       [ 1.93102431e+01],\n",
              "       [ 1.89897096e+01],\n",
              "       [ 1.93603341e+01],\n",
              "       [ 2.21508532e+01],\n",
              "       [ 2.08116568e+01],\n",
              "       [ 2.16475767e+01],\n",
              "       [ 2.25404431e+01],\n",
              "       [ 2.54051126e+01],\n",
              "       [ 2.49798699e+01],\n",
              "       [ 2.49615525e+01],\n",
              "       [ 2.36575612e+01],\n",
              "       [ 2.26200626e+01],\n",
              "       [ 2.78933959e+01],\n",
              "       [ 2.85487023e+01],\n",
              "       [ 2.69670952e+01],\n",
              "       [ 2.89763117e+01],\n",
              "       [ 3.01108861e+01],\n",
              "       [ 3.08773449e+01],\n",
              "       [ 3.17363349e+01],\n",
              "       [ 2.96726367e+01],\n",
              "       [ 3.43159300e+01]])"
            ]
          },
          "metadata": {},
          "execution_count": 16
        }
      ]
    },
    {
      "cell_type": "code",
      "source": [
        "plt.scatter(x_test,y_test)"
      ],
      "metadata": {
        "colab": {
          "base_uri": "https://localhost:8080/",
          "height": 447
        },
        "id": "q8W4Wd5Tq6Qo",
        "outputId": "37a3e2aa-07fb-44b4-cd7b-850e95a55f78"
      },
      "execution_count": 17,
      "outputs": [
        {
          "output_type": "execute_result",
          "data": {
            "text/plain": [
              "<matplotlib.collections.PathCollection at 0x7d2aa8be23b0>"
            ]
          },
          "metadata": {},
          "execution_count": 17
        },
        {
          "output_type": "display_data",
          "data": {
            "text/plain": [
              "<Figure size 640x480 with 1 Axes>"
            ],
            "image/png": "[encoded data removed]"
          },
          "metadata": {}
        }
      ]
    },
    {
      "cell_type": "code",
      "source": [
        "dummy=np.ones(x_train.shape[1])"
      ],
      "metadata": {
        "id": "6ctgydJnrAAQ"
      },
      "execution_count": 18,
      "outputs": []
    },
    {
      "cell_type": "code",
      "source": [
        "dummy.shape"
      ],
      "metadata": {
        "colab": {
          "base_uri": "https://localhost:8080/"
        },
        "id": "5U1Ogt8cs2nN",
        "outputId": "94718c89-47ad-4850-af4f-4f5cd9b322d4"
      },
      "execution_count": 19,
      "outputs": [
        {
          "output_type": "execute_result",
          "data": {
            "text/plain": [
              "(400,)"
            ]
          },
          "metadata": {},
          "execution_count": 19
        }
      ]
    },
    {
      "cell_type": "code",
      "source": [
        "x=np.row_stack((dummy,x_train))"
      ],
      "metadata": {
        "id": "AUm0milAs50V"
      },
      "execution_count": 20,
      "outputs": []
    },
    {
      "cell_type": "code",
      "source": [
        "x.shape"
      ],
      "metadata": {
        "colab": {
          "base_uri": "https://localhost:8080/"
        },
        "id": "bF3OyhnYtN1-",
        "outputId": "8c53234b-bb09-4a63-bf5f-f5fcf408ed87"
      },
      "execution_count": 21,
      "outputs": [
        {
          "output_type": "execute_result",
          "data": {
            "text/plain": [
              "(2, 400)"
            ]
          },
          "metadata": {},
          "execution_count": 21
        }
      ]
    },
    {
      "cell_type": "code",
      "source": [
        "x_t=np.row_stack((np.ones(x_test.shape[1]),x_test))"
      ],
      "metadata": {
        "id": "kdQQO4cptPj-"
      },
      "execution_count": 22,
      "outputs": []
    },
    {
      "cell_type": "code",
      "source": [
        "x_t.shape"
      ],
      "metadata": {
        "colab": {
          "base_uri": "https://localhost:8080/"
        },
        "id": "KskJen5ktayY",
        "outputId": "1ab8531c-ae88-4907-8681-8305de4a0e6a"
      },
      "execution_count": 23,
      "outputs": [
        {
          "output_type": "execute_result",
          "data": {
            "text/plain": [
              "(2, 200)"
            ]
          },
          "metadata": {},
          "execution_count": 23
        }
      ]
    },
    {
      "cell_type": "markdown",
      "source": [
        "## Loss function\n",
        "\n",
        "The total loss is the sum of square of errors between actual and predicted labels for each training point.  \n",
        "\n",
        "The error for $i$-th training point is calculated as follows:\n",
        "\\begin{eqnarray}\n",
        "e^{(i)} &=& (\\mathrm{{actual\\ label} - {predicted\\ label}})^2 \\\\\n",
        "        &=& \\left ({y_{i}} -\n",
        "        {h_{\\mathbf{w}}(\\mathbf{x}_{i})} \\right)^2 \\\\\n",
        "        &=& \\left ({y_{i}} -\n",
        "        {\\mathbf{w}^T \\mathbf{x}_{i}} \\right)^2\n",
        "\\end{eqnarray}\n",
        "\n",
        "\n",
        "\n",
        "The total loss $L(\\mathbf{w})$ is sum of errors at each training point:\n",
        "\\begin{equation}\n",
        "L(\\mathbf{w}) = \\sum_{i=1}^{n} e^{(i)}\n",
        "\\end{equation}\n",
        "\n",
        "We divide this by $\\frac{1}{2}$ for mathematical convenience in later use:\n",
        "\n",
        "\n",
        "\\begin{eqnarray}\n",
        "  L(\\mathbf{w}) &=& \\frac{1}{2} \\sum_{i=1}^{n} e^{(i)} \\\\ &=&  \\frac{1}{2} \\left({{\\mathbf{X}^T \\mathbf{w}}} - \\mathbf{y} \\right)^T \\left({{\\mathbf{X}^T \\mathbf{w}}} - \\mathbf{y} \\right))\n",
        "\\end{eqnarray}"
      ],
      "metadata": {
        "id": "_K692xB9upPP"
      }
    },
    {
      "cell_type": "markdown",
      "source": [
        "#### 1. Normal equation\n",
        "\n",
        "Let's set $\\dfrac{\\partial L(\\mathbf{w})}{\\partial \\mathbf{w}}$ to 0 and solve for $\\mathbf{w}$:\n",
        "\\begin{eqnarray}\n",
        "\\frac{\\partial L(\\mathbf{w})}{\\partial \\mathbf{w}} &=& \\mathbf{X} \\mathbf{X}^T \\mathbf{w} - \\mathbf{X} \\mathbf{y} = 0 \\\\\n",
        "\\mathbf{X}^T \\mathbf{X} \\mathbf{w} &=& \\mathbf{X} \\mathbf{y} \\\\\n",
        "\\mathbf{w} &=& \\left( \\mathbf{X} \\mathbf{X}^T \\right)^{-1} \\mathbf{X} \\mathbf{y}\n",
        "\\end{eqnarray}\n",
        "\n"
      ],
      "metadata": {
        "id": "FFWMIRCfuTzJ"
      }
    },
    {
      "cell_type": "code",
      "source": [
        "def weights(x,y):\n",
        "  return (np.linalg.pinv(x@x.T))@x@y"
      ],
      "metadata": {
        "id": "XTjxqR1TtcTw"
      },
      "execution_count": 24,
      "outputs": []
    },
    {
      "cell_type": "code",
      "source": [
        "def predict(x,w):\n",
        "  return (x.T)@w"
      ],
      "metadata": {
        "id": "6bq9rApevFkU"
      },
      "execution_count": 25,
      "outputs": []
    },
    {
      "cell_type": "code",
      "source": [
        "#rmse\n",
        "def rmseloss(y,yhat):\n",
        "  return np.sqrt(np.mean((y-yhat)**2))"
      ],
      "metadata": {
        "id": "wiN3Pb3vvklW"
      },
      "execution_count": 26,
      "outputs": []
    },
    {
      "cell_type": "code",
      "source": [
        "w=weights(x,y_train)"
      ],
      "metadata": {
        "id": "ZzGfdM4_vQWs"
      },
      "execution_count": 27,
      "outputs": []
    },
    {
      "cell_type": "code",
      "source": [
        "y_hat=predict(x,w)"
      ],
      "metadata": {
        "id": "LLlui4ROvUXc"
      },
      "execution_count": 28,
      "outputs": []
    },
    {
      "cell_type": "code",
      "source": [
        "rmseloss(y_train,y_hat)"
      ],
      "metadata": {
        "colab": {
          "base_uri": "https://localhost:8080/"
        },
        "id": "qCjMLGslvZct",
        "outputId": "25075e19-5a1d-4b5b-a5d5-1fb3817d05b8"
      },
      "execution_count": 29,
      "outputs": [
        {
          "output_type": "execute_result",
          "data": {
            "text/plain": [
              "4.477002001803876"
            ]
          },
          "metadata": {},
          "execution_count": 29
        }
      ]
    },
    {
      "cell_type": "code",
      "source": [
        "y_test_hat=predict(x_t,w)"
      ],
      "metadata": {
        "id": "tUF4zRnCwCVB"
      },
      "execution_count": 30,
      "outputs": []
    },
    {
      "cell_type": "code",
      "source": [
        "y_test.shape"
      ],
      "metadata": {
        "colab": {
          "base_uri": "https://localhost:8080/"
        },
        "id": "BZrlSpPHwnCM",
        "outputId": "819bc4c4-f6ff-4fa4-8c39-50eebd65086c"
      },
      "execution_count": 31,
      "outputs": [
        {
          "output_type": "execute_result",
          "data": {
            "text/plain": [
              "(200, 1)"
            ]
          },
          "metadata": {},
          "execution_count": 31
        }
      ]
    },
    {
      "cell_type": "code",
      "source": [
        "y_test_hat.shape"
      ],
      "metadata": {
        "colab": {
          "base_uri": "https://localhost:8080/"
        },
        "id": "eWlJPJ0sw28O",
        "outputId": "1069b3b7-4756-4c2d-cae2-cf7626c0300b"
      },
      "execution_count": 32,
      "outputs": [
        {
          "output_type": "execute_result",
          "data": {
            "text/plain": [
              "(200, 1)"
            ]
          },
          "metadata": {},
          "execution_count": 32
        }
      ]
    },
    {
      "cell_type": "code",
      "source": [
        "rmseloss(y_test,y_test_hat)"
      ],
      "metadata": {
        "colab": {
          "base_uri": "https://localhost:8080/"
        },
        "id": "_nxGAY_1wUv7",
        "outputId": "71179417-a22f-4979-e49b-6a8092a7e9f6"
      },
      "execution_count": 33,
      "outputs": [
        {
          "output_type": "execute_result",
          "data": {
            "text/plain": [
              "4.7665163066422265"
            ]
          },
          "metadata": {},
          "execution_count": 33
        }
      ]
    },
    {
      "cell_type": "code",
      "source": [
        "def gradient(x,w,y):\n",
        "  return (x@x.T)@w-(x@y)"
      ],
      "metadata": {
        "id": "aNLTtPeVwdUb"
      },
      "execution_count": 34,
      "outputs": []
    },
    {
      "cell_type": "code",
      "source": [
        "def grad_desc(x,y,eta,n_iter):\n",
        "  w0=np.zeros(x.shape[0])\n",
        "  for i in range(n_iter):\n",
        "    w0=w0-eta*(gradient(x,w0,y))\n",
        "  return w0"
      ],
      "metadata": {
        "id": "1xnwCEFpRdKS"
      },
      "execution_count": 35,
      "outputs": []
    },
    {
      "cell_type": "code",
      "source": [
        "w_gd=grad_desc(x,y_train,0.000001,100000)"
      ],
      "metadata": {
        "id": "wjUMI-GFSclP"
      },
      "execution_count": 51,
      "outputs": []
    },
    {
      "cell_type": "code",
      "source": [
        "w_gd"
      ],
      "metadata": {
        "colab": {
          "base_uri": "https://localhost:8080/"
        },
        "id": "dfCjyPtrSm4w",
        "outputId": "053872f2-80b9-446a-97e3-2c9ad216a1cd"
      },
      "execution_count": 52,
      "outputs": [
        {
          "output_type": "execute_result",
          "data": {
            "text/plain": [
              "array([[7.93982825, 7.93982825],\n",
              "       [4.79910241, 4.79910241]])"
            ]
          },
          "metadata": {},
          "execution_count": 52
        }
      ]
    },
    {
      "cell_type": "code",
      "source": [
        "w"
      ],
      "metadata": {
        "colab": {
          "base_uri": "https://localhost:8080/"
        },
        "id": "1uBFQdxbSoUI",
        "outputId": "99893d1e-cdd3-4765-fd3b-f3c3455d6b4d"
      },
      "execution_count": 53,
      "outputs": [
        {
          "output_type": "execute_result",
          "data": {
            "text/plain": [
              "array([[7.93982825],\n",
              "       [4.79910241]])"
            ]
          },
          "metadata": {},
          "execution_count": 53
        }
      ]
    },
    {
      "cell_type": "code",
      "source": [
        "y_gd_hat=predict(x,w_gd)"
      ],
      "metadata": {
        "id": "J6a_q5XxSpQB"
      },
      "execution_count": 54,
      "outputs": []
    },
    {
      "cell_type": "code",
      "source": [
        "rmseloss(y_train,y_gd_hat)"
      ],
      "metadata": {
        "colab": {
          "base_uri": "https://localhost:8080/"
        },
        "id": "PYaDrV6ZS9Ga",
        "outputId": "7519841e-1537-4b42-d181-aa448db96786"
      },
      "execution_count": 55,
      "outputs": [
        {
          "output_type": "execute_result",
          "data": {
            "text/plain": [
              "4.477002001803876"
            ]
          },
          "metadata": {},
          "execution_count": 55
        }
      ]
    },
    {
      "cell_type": "code",
      "source": [],
      "metadata": {
        "id": "F4Zd1b5_THlM"
      },
      "execution_count": null,
      "outputs": []
    }
  ]
}